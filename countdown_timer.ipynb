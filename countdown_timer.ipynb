{
  "nbformat": 4,
  "nbformat_minor": 0,
  "metadata": {
    "colab": {
      "provenance": [],
      "authorship_tag": "ABX9TyPOJEinJr91bx+6BTLYxw+t",
      "include_colab_link": true
    },
    "kernelspec": {
      "name": "python3",
      "display_name": "Python 3"
    },
    "language_info": {
      "name": "python"
    }
  },
  "cells": [
    {
      "cell_type": "markdown",
      "metadata": {
        "id": "view-in-github",
        "colab_type": "text"
      },
      "source": [
        "<a href=\"https://colab.research.google.com/github/ahsen-adil/python_projects/blob/main/countdown_timer.ipynb\" target=\"_parent\"><img src=\"https://colab.research.google.com/assets/colab-badge.svg\" alt=\"Open In Colab\"/></a>"
      ]
    },
    {
      "cell_type": "markdown",
      "source": [
        "# **Project 6: Countdown Timer Python Project**"
      ],
      "metadata": {
        "id": "yWPLjLD8ehsz"
      }
    },
    {
      "cell_type": "code",
      "source": [
        "import time\n",
        "\n",
        "def countdown_timer(seconds):\n",
        "    while seconds >= 0:\n",
        "        mins, secs = divmod(seconds, 60)\n",
        "        # Timer format (05:34)\n",
        "        timer = f'{mins:02}:{secs:02}'\n",
        "        print(f\"\\r⏳ Timer: {timer}\", end=\"\")  # Timer display\n",
        "        time.sleep(1)  # 1 second wait\n",
        "        seconds -= 1  # Seconds decreament\n",
        "\n",
        "    print(\"\\n⏰ Time's up!\")  # Timer end msg\n",
        "\n",
        "try:\n",
        "    total_seconds = int(input(\"Enter time in seconds for the countdown: \"))\n",
        "    countdown_timer(total_seconds)\n",
        "except ValueError:\n",
        "    print(\"Please enter a valid number!\")\n"
      ],
      "metadata": {
        "id": "CogpzwHaelOS"
      },
      "execution_count": null,
      "outputs": []
    }
  ]
}