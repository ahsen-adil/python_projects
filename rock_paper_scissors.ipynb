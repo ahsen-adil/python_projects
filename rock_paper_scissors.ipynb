{
  "nbformat": 4,
  "nbformat_minor": 0,
  "metadata": {
    "colab": {
      "provenance": [],
      "authorship_tag": "ABX9TyOLAI0KMulSP2TdKOwpAHc2",
      "include_colab_link": true
    },
    "kernelspec": {
      "name": "python3",
      "display_name": "Python 3"
    },
    "language_info": {
      "name": "python"
    }
  },
  "cells": [
    {
      "cell_type": "markdown",
      "metadata": {
        "id": "view-in-github",
        "colab_type": "text"
      },
      "source": [
        "<a href=\"https://colab.research.google.com/github/ahsen-adil/python_projects/blob/main/rock_paper_scissors.ipynb\" target=\"_parent\"><img src=\"https://colab.research.google.com/assets/colab-badge.svg\" alt=\"Open In Colab\"/></a>"
      ]
    },
    {
      "cell_type": "markdown",
      "source": [
        "# **Project 4: Rock, paper, scissors Python Project**"
      ],
      "metadata": {
        "id": "3o1844AQdqVH"
      }
    },
    {
      "cell_type": "code",
      "source": [
        "import random\n",
        "\n",
        "item_list = [\"Rock\",\"Paper\",\"Scissor\"]\n",
        "\n",
        "user_input = input(\"enter your move = Rock , Paper , Scisssor = \")\n",
        "\n",
        "comp_chioce = random.choice(item_list)\n",
        "\n",
        "print(f\"user choice = {user_input} computer choice = {comp_chioce}\")\n",
        "\n",
        "if user_input == comp_chioce:\n",
        "    print(\"Both Choose Same: Match Tie\")\n",
        "\n",
        "elif user_input == \"Rock\":\n",
        "    if comp_chioce == \"Paper\":\n",
        "        print(\"Paper cover Rock = computer win\")\n",
        "    else:\n",
        "        print(\"Rock smashes scissor = You win\")\n",
        "\n",
        "elif user_input == \"Paper\":\n",
        "    if comp_chioce == \"Scissor\":\n",
        "        print(\"Scissor Cut Paper = computer win\")\n",
        "    else:\n",
        "        print(\"Paper Cover Rock = You win\")\n",
        "\n",
        "elif user_input == \"Scissor\":\n",
        "    if comp_chioce == \"Paper\":\n",
        "        print(\"Scissor Cut Paper = You win\")\n",
        "    else:\n",
        "        print(\"Rock smashes scissor = Computer win\")"
      ],
      "metadata": {
        "id": "siLyM_R6dutJ"
      },
      "execution_count": null,
      "outputs": []
    }
  ]
}