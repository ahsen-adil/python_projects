{
  "nbformat": 4,
  "nbformat_minor": 0,
  "metadata": {
    "colab": {
      "provenance": [],
      "authorship_tag": "ABX9TyPgjm3wJ33Dzl6zCg6sW+u3",
      "include_colab_link": true
    },
    "kernelspec": {
      "name": "python3",
      "display_name": "Python 3"
    },
    "language_info": {
      "name": "python"
    }
  },
  "cells": [
    {
      "cell_type": "markdown",
      "metadata": {
        "id": "view-in-github",
        "colab_type": "text"
      },
      "source": [
        "<a href=\"https://colab.research.google.com/github/ahsen-adil/python_projects/blob/main/password_generator.ipynb\" target=\"_parent\"><img src=\"https://colab.research.google.com/assets/colab-badge.svg\" alt=\"Open In Colab\"/></a>"
      ]
    },
    {
      "cell_type": "markdown",
      "source": [
        "# **Project 7: Password Generator Python Project**"
      ],
      "metadata": {
        "id": "JM8EjjR4fGPg"
      }
    },
    {
      "cell_type": "code",
      "source": [
        "import random\n",
        "\n",
        "print(\"Welcome to the password generator!\")\n",
        "\n",
        "chars = 'abcdefghijklmnopqrstuvwxyzABCDEFGHIJKLMNOPQRSTUVWXYZ0123456789!@#$%^&*()'\n",
        "\n",
        "number = input('Amount of passwords to generate: ')\n",
        "number  = int(number)\n",
        "\n",
        "length = input(\"Please enter the length of your password: \")\n",
        "length = int(length)\n",
        "\n",
        "print('\\nHere are your passwords: ')\n",
        "\n",
        "for pwd in range(number):\n",
        "    passwords = ''\n",
        "    for c in range(length):\n",
        "        passwords += random.choice(chars)\n",
        "    print(passwords)"
      ],
      "metadata": {
        "id": "G_2h6IWWfNv1"
      },
      "execution_count": null,
      "outputs": []
    }
  ]
}