{
  "nbformat": 4,
  "nbformat_minor": 0,
  "metadata": {
    "colab": {
      "provenance": [],
      "authorship_tag": "ABX9TyMUNKfxAIW8zEYV4nQaJwn3",
      "include_colab_link": true
    },
    "kernelspec": {
      "name": "python3",
      "display_name": "Python 3"
    },
    "language_info": {
      "name": "python"
    }
  },
  "cells": [
    {
      "cell_type": "markdown",
      "metadata": {
        "id": "view-in-github",
        "colab_type": "text"
      },
      "source": [
        "<a href=\"https://colab.research.google.com/github/ahsen-adil/python_projects/blob/main/mad_libs.ipynb\" target=\"_parent\"><img src=\"https://colab.research.google.com/assets/colab-badge.svg\" alt=\"Open In Colab\"/></a>"
      ]
    },
    {
      "cell_type": "markdown",
      "source": [],
      "metadata": {
        "id": "hTJwDM6Fz0Jf"
      }
    },
    {
      "cell_type": "markdown",
      "source": [
        "# **Project 1: Mad libs Python Project**"
      ],
      "metadata": {
        "id": "IT1jTcCSz6aU"
      }
    },
    {
      "cell_type": "code",
      "source": [
        "def madlib():\n",
        "    # Collect user details\n",
        "    name = input(\"What is your name? \")\n",
        "    age = input(\"What is your age? \")\n",
        "    github = input(\"What is your GitHub username? \")\n",
        "    linkedin = input(\"What is your LinkedIn profile link? \")\n",
        "    fav_language = input(\"What is your favorite programming language? \")\n",
        "    fav_editor = input(\"What is your favorite code editor? \")\n",
        "\n",
        "    # Craft the mad lib\n",
        "    madlib = f\"Meet {name}, a {age}-year-old passionate coder! When they're not busy exploring new \\\n",
        "repositories on GitHub ({github}), you can find them networking on LinkedIn ({linkedin}). {name} is \\\n",
        "a big fan of {fav_language}, and their favorite tool of choice is {fav_editor}. Whether they're debugging \\\n",
        "or writing clean code, {name} is always up for a challenge. Keep coding and creating magic, {name}!\"\n",
        "\n",
        "    print(madlib)\n",
        "\n",
        "madlib()\n"
      ],
      "metadata": {
        "id": "xhz_C0M-0QUj"
      },
      "execution_count": 30,
      "outputs": []
    }
  ]
}